{
  "cells": [
    {
      "cell_type": "markdown",
      "metadata": {},
      "source": [
        "---\n",
        "title: \"Análise exploratória de dados\"\n",
        "subtitle: \"Introdução ao Pandas\"\n",
        "description: \"Pandas\"\n",
        "author: \"Wellington Santos Souza\"\n",
        "date: \"2024-09-12\"\n",
        "format: \n",
        "  html:\n",
        "    code-fold: false\n",
        "categories: [Pandas, Python]\n",
        "open-graph:\n",
        "  description: \"Pandas\"\n",
        "  image: ../images/03.pandas/pandas.svg\n",
        "twitter-card:\n",
        "  description: \"Pandas\"\n",
        "  image: ../images/03.pandas/pandas.svg\n",
        "---\n",
        "\n",
        "\n",
        "*Este artigo foi reescrito em Domingo, 08 de Setembro de 2024.*\n",
        "\n",
        "![](../images/03.pandas/pandas.svg){fig-alt=\"Pandas\" fig-title=\"Pandas\"}\n",
        "\n",
        "# Introdução\n",
        "\n",
        "O pandas é uma ferramenta de análise e manipulação de dados de código aberto rápida, poderosa, flexível e fácil de usar, desenvolvida com base na linguagem de programação Python. Clique [aqui!](https://pandas.pydata.org/docs/index.html) para acessar a documentação oficial do Pandas.\n",
        "\n",
        "Para instalar o Pandas, basta executar o comando: `pip install pandas` no terminal.\n",
        "Com o pandas instalado, podemos carrega-lo com o comando `import pandas as pd`. \n",
        "Vamos importar a biblioteca seaborn para plotar gráficos com o comando `import seaborn as sns`.\n"
      ],
      "id": "4bc97808"
    },
    {
      "cell_type": "code",
      "metadata": {},
      "source": [
        "import pandas as pd\n",
        "import seaborn as sns"
      ],
      "id": "cc9d5306",
      "execution_count": null,
      "outputs": []
    },
    {
      "cell_type": "markdown",
      "metadata": {},
      "source": [
        "Agora que temos o pandas carregado podemos importar um arquivo CSV para análise. Além disso, podemos usar o pandas para coletar dados em diversos formatos, como JSON, HTML, SQL, Excel, entre outros. Para mais informações sobre como carregar dados com o pandas, clique [aqui!](https://pandas.pydata.org/pandas-docs/stable/reference/io.html).\n"
      ],
      "id": "c432973e"
    },
    {
      "cell_type": "code",
      "metadata": {},
      "source": [
        "df = pd.read_csv('../dados/world_happiness.csv')"
      ],
      "id": "19cd3b83",
      "execution_count": null,
      "outputs": []
    },
    {
      "cell_type": "markdown",
      "metadata": {},
      "source": [
        "## Operações básicas com o Pandas\n",
        "\n",
        "Podemos visualizar as primeiras linhas do nosso DataFrame com o comando `df.head()`. Para visualizar as últimas linhas, basta usar o comando `df.tail()`."
      ],
      "id": "8d6e6028"
    },
    {
      "cell_type": "code",
      "metadata": {},
      "source": [
        "# Visualizando as primeiras linhas do DataFrame\n",
        "df.head()"
      ],
      "id": "5d37719e",
      "execution_count": null,
      "outputs": []
    },
    {
      "cell_type": "code",
      "metadata": {},
      "source": [
        "# Visualizando as últimas linhas do DataFrame\n",
        "df.tail()"
      ],
      "id": "8bde6f53",
      "execution_count": null,
      "outputs": []
    },
    {
      "cell_type": "markdown",
      "metadata": {},
      "source": [
        "Podemos visualizar os índices e nome das colunas do DataFrame com os comandos `df.index` e `df.columns`, respectivamente."
      ],
      "id": "1e4e829e"
    },
    {
      "cell_type": "code",
      "metadata": {},
      "source": [
        "# Visualizando os índices do DataFrame\n",
        "df.index"
      ],
      "id": "22092904",
      "execution_count": null,
      "outputs": []
    },
    {
      "cell_type": "code",
      "metadata": {},
      "source": [
        "# Visualizando os nomes das colunas do DataFrame\n",
        "df.columns"
      ],
      "id": "de3e7828",
      "execution_count": null,
      "outputs": []
    },
    {
      "cell_type": "markdown",
      "metadata": {},
      "source": [
        "Como vimos as colunas possuem espaços em seus nomes, para remover esses espaços podemos usar o comando `df.columns = df.columns.str.replace(' ', '_')`."
      ],
      "id": "af1e887b"
    },
    {
      "cell_type": "code",
      "metadata": {},
      "source": [
        "# Removendo os espaços dos nomes das colunas\n",
        "df.columns = df.columns.str.replace(' ', '_')"
      ],
      "id": "68caaa38",
      "execution_count": null,
      "outputs": []
    },
    {
      "cell_type": "markdown",
      "metadata": {},
      "source": [
        "Além disso, podemos colocar os nomes das colunas em minúsculo."
      ],
      "id": "41172461"
    },
    {
      "cell_type": "code",
      "metadata": {},
      "source": [
        "# Colocando os nomes das colunas em minúsculo\n",
        "df.columns = df.columns.str.lower()"
      ],
      "id": "c78fb3a6",
      "execution_count": null,
      "outputs": []
    },
    {
      "cell_type": "code",
      "metadata": {},
      "source": [
        "# Visualizando os nomes das colunas do DataFrame\n",
        "df.columns"
      ],
      "id": "048a93c2",
      "execution_count": null,
      "outputs": []
    },
    {
      "cell_type": "markdown",
      "metadata": {},
      "source": [
        "Podemos visualizar as informações do DataFrame com o comando `df.info()`. Além disso, podemos visualizar o tipo dos dados de cada coluna com o comando `df.dtypes`."
      ],
      "id": "1b7559f8"
    },
    {
      "cell_type": "code",
      "metadata": {},
      "source": [
        "# Visualizando as informações do DataFrame\n",
        "df.info()"
      ],
      "id": "0697161e",
      "execution_count": null,
      "outputs": []
    },
    {
      "cell_type": "code",
      "metadata": {},
      "source": [
        "# Visualizando o tipo dos dados de cada coluna\n",
        "df.dtypes"
      ],
      "id": "9069a1bd",
      "execution_count": null,
      "outputs": []
    },
    {
      "cell_type": "markdown",
      "metadata": {},
      "source": [
        "# Selecionando linhas e colunas do DataFrame\n",
        "\n",
        "## Selecionando colunas do DataFrame\n",
        "\n",
        "Podemos selecionar a coluna `life_ladder` do DataFrame com o comando `df.life_ladder`. Além disso, podemos selecionar mais de uma coluna passando uma lista com os nomes das colunas desejadas."
      ],
      "id": "f8fc72cd"
    },
    {
      "cell_type": "code",
      "metadata": {},
      "source": [
        "# Selecionando a coluna life_ladder\n",
        "x = df.life_ladder\n",
        "print(x)"
      ],
      "id": "4e0c7922",
      "execution_count": null,
      "outputs": []
    },
    {
      "cell_type": "markdown",
      "metadata": {},
      "source": [
        "Uma outra forma é passar o nome da coluna entre colchetes, como no exemplo abaixo."
      ],
      "id": "148476d3"
    },
    {
      "cell_type": "code",
      "metadata": {},
      "source": [
        "# Selecionando a coluna life_ladder\n",
        "x = df['life_ladder']\n",
        "print(x)"
      ],
      "id": "43f1ff83",
      "execution_count": null,
      "outputs": []
    },
    {
      "cell_type": "markdown",
      "metadata": {},
      "source": [
        "## Selecionando linhas do DataFrame\n",
        "\n",
        "Podemos selecionar as linhas de um DataFrame com o comando `df[1:5]`. "
      ],
      "id": "3b4a4408"
    },
    {
      "cell_type": "code",
      "metadata": {},
      "source": [
        "# Selecionando as linhas de 1 a 5\n",
        "x = df[1:5]\n",
        "print(x)"
      ],
      "id": "f4d6262c",
      "execution_count": null,
      "outputs": []
    },
    {
      "cell_type": "markdown",
      "metadata": {},
      "source": [
        "# Operadores lógicos\n",
        "\n",
        "Podemos usar operadores lógicos para selecionar linhas do DataFrame. Por exemplo, podemos selecionar as linhas onde o valor da coluna `year` é igual a 2018."
      ],
      "id": "2344b17e"
    },
    {
      "cell_type": "code",
      "metadata": {},
      "source": [
        "# Selecionando as linhas onde o valor da coluna year é igual a 2018\n",
        "x = df[df.year == 2018]\n",
        "print(x)"
      ],
      "id": "1483dba1",
      "execution_count": null,
      "outputs": []
    },
    {
      "cell_type": "markdown",
      "metadata": {},
      "source": [
        "Selecioando linhas onde life_ladder é maior que 5."
      ],
      "id": "d96560ff"
    },
    {
      "cell_type": "code",
      "metadata": {},
      "source": [
        "# Selecionando as linhas onde o valor da coluna life_ladder é maior que 5\n",
        "x = df[df.life_ladder > 5]\n",
        "x"
      ],
      "id": "18fef18c",
      "execution_count": null,
      "outputs": []
    },
    {
      "cell_type": "markdown",
      "metadata": {},
      "source": [
        "Resetando o índice do DataFrame filtrado."
      ],
      "id": "2c307f78"
    },
    {
      "cell_type": "code",
      "metadata": {},
      "source": [
        "new_df = df[df[\"year\"] == 2022]\n",
        "new_df = new_df.reset_index(drop=True)\n",
        "new_df"
      ],
      "id": "071fdbbb",
      "execution_count": null,
      "outputs": []
    },
    {
      "cell_type": "markdown",
      "metadata": {},
      "source": [
        "# Visualizando dados faltantes\n",
        "Podemos visualizar os dados faltantes do DataFrame com o comando `df.isnull().sum()`."
      ],
      "id": "fc8ffc0f"
    },
    {
      "cell_type": "code",
      "metadata": {},
      "source": [
        "df.isnull().sum()"
      ],
      "id": "5ae8f442",
      "execution_count": null,
      "outputs": []
    },
    {
      "cell_type": "markdown",
      "metadata": {},
      "source": [
        "# Estatísticas descritivas\n",
        "Podemos visualizar as estatísticas descritivas do DataFrame com o comando `df.describe()`."
      ],
      "id": "6c7ecf11"
    },
    {
      "cell_type": "code",
      "metadata": {},
      "source": [
        "df.describe()"
      ],
      "id": "8d96c4e7",
      "execution_count": null,
      "outputs": []
    },
    {
      "cell_type": "markdown",
      "metadata": {},
      "source": [
        "# Plotando gráficos\n"
      ],
      "id": "1238f5ed"
    },
    {
      "cell_type": "code",
      "metadata": {},
      "source": [
        "df.plot()"
      ],
      "id": "2b9600fd",
      "execution_count": null,
      "outputs": []
    },
    {
      "cell_type": "markdown",
      "metadata": {},
      "source": [
        "Como pudemos notar a plotagem do gráfico não ficou muito legível. Podemos melhorar a visualização do gráfico. Para isso, vamos plotar um gráfico de dispersão com a coluna `log_gdp_per_capita` no eixo x e a coluna `life_ladder` no eixo y."
      ],
      "id": "867461a3"
    },
    {
      "cell_type": "code",
      "metadata": {},
      "source": [
        "df.plot(kind='scatter', x='log_gdp_per_capita', y='life_ladder')"
      ],
      "id": "377c70c8",
      "execution_count": null,
      "outputs": []
    },
    {
      "cell_type": "markdown",
      "metadata": {},
      "source": [
        "Podemos melhorar a visualização do gráfico adicionando cores e alterando o tamanho dos pontos. Para isso, vamos criar um dicionário com as cores que queremos usar e passar esse dicionário para o parâmetro `c` do método `plot`."
      ],
      "id": "6f573108"
    },
    {
      "cell_type": "code",
      "metadata": {},
      "source": [
        "cmap = {\n",
        "    'Brazil': 'Green',\n",
        "    'Slovenia': 'Orange',\n",
        "    'India': 'purple'\n",
        "}\n",
        "\n",
        "df.plot(\n",
        "    kind='scatter',\n",
        "    x='log_gdp_per_capita',\n",
        "    y='life_ladder',\n",
        "    c=[cmap.get(c, 'yellow') for c in df.country_name], # Set the colors\n",
        "    s=2 # Set the size of the points\n",
        "    )"
      ],
      "id": "00352408",
      "execution_count": null,
      "outputs": []
    },
    {
      "cell_type": "markdown",
      "metadata": {},
      "source": [
        "Podemos plotar um histograma da coluna `life_ladder` com o comando `df.hist(\"life_ladder\")`."
      ],
      "id": "f015deb2"
    },
    {
      "cell_type": "code",
      "metadata": {},
      "source": [
        "df.hist(\"life_ladder\")"
      ],
      "id": "93ba6e4c",
      "execution_count": null,
      "outputs": []
    },
    {
      "cell_type": "markdown",
      "metadata": {},
      "source": [
        "Além disso podemos criar gráficos com o seaborn. Por exemplo, podemos criar um gráfico de dispersão com a coluna `log_gdp_per_capita` no eixo x e a coluna `life_ladder` no eixo y."
      ],
      "id": "766d6cfd"
    },
    {
      "cell_type": "code",
      "metadata": {},
      "source": [
        "sns.scatterplot(data=df, x='log_gdp_per_capita', y='life_ladder')"
      ],
      "id": "58547a98",
      "execution_count": null,
      "outputs": []
    },
    {
      "cell_type": "markdown",
      "metadata": {},
      "source": [
        "Podemos plotar vários gráficos ao mesmo tempo com o seaborn. "
      ],
      "id": "814bd3c0"
    },
    {
      "cell_type": "code",
      "metadata": {},
      "source": [
        "sns.pairplot(df)"
      ],
      "id": "4c31fef3",
      "execution_count": null,
      "outputs": []
    },
    {
      "cell_type": "markdown",
      "metadata": {},
      "source": [
        "# Operações com colunas\n",
        "\n",
        "Podemos criar uma nova coluna no DataFrame com o comando `df['nova_coluna'] = df['coluna1'] + df['coluna2']`."
      ],
      "id": "4b06ccf5"
    },
    {
      "cell_type": "code",
      "metadata": {},
      "source": [
        "df['this_column_makes_no_sense'] = df[\"year\"] + df[\"life_ladder\"]\n",
        "df[\"net_affect_difference\"] = df[\"positive_affect\"] - df[\"negative_affect\"]\n",
        "\n",
        "df.head()"
      ],
      "id": "d846bd2f",
      "execution_count": null,
      "outputs": []
    }
  ],
  "metadata": {
    "kernelspec": {
      "display_name": "Python 3",
      "language": "python",
      "name": "python3"
    }
  },
  "nbformat": 4,
  "nbformat_minor": 5
}