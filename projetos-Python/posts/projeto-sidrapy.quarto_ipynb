{
  "cells": [
    {
      "cell_type": "markdown",
      "metadata": {},
      "source": [
        "---\n",
        "title: \"COLETANDO DADOS DO SIDRA COM O PYTHON\"\n",
        "subtitle: \"sidrapy\"\n",
        "description: \"\"\n",
        "author: \"Wellington Santos Souza\"\n",
        "date: \"2024-02-12\"\n",
        "format: \n",
        "  html:\n",
        "    code-fold: true\n",
        "categories: [sidrapy, Python]\n",
        "open-graph:\n",
        "  description: \"IPC\"\n",
        "  image: ../images/01.sidrar/sidra.png\n",
        "twitter-card:\n",
        "  description: \"IPC\"\n",
        "  image: ../images/01.sidrar/sidra.png\n",
        "---\n",
        "\n",
        "\n",
        "*Este artigo foi reescrito em Segunda, 25 de Março de 2024.* \n",
        "\n",
        "![](../images/01.sidrar/sidra.png){fig-alt=\"SIDRAr\" fig-title=\"Acessando dados disponíveis no SIDRA IBGE com o pacote sidrar\" }\n",
        "\n",
        "COLETANDO DADOS DO SIDRA COM O PYTHON\n",
        "\n",
        "O primeiro passo será instalar a biblioteca sidrapy, se estiver usando o VSCode pode digitar o código `pip install sidrapy` no termianl que você irá instalar a biblioteca usada para fazer o download dos dados. \n",
        "\n",
        "O segundo passo será importar essa biblioteca para isso faça;"
      ],
      "id": "3669e652"
    },
    {
      "cell_type": "code",
      "metadata": {
        "message": false
      },
      "source": [
        "import sidrapy"
      ],
      "id": "11c88c8b",
      "execution_count": null,
      "outputs": []
    },
    {
      "cell_type": "markdown",
      "metadata": {},
      "source": [
        "Agora que temos nossa biblioteca instalada vamos baixar nossos dados."
      ],
      "id": "686de406"
    },
    {
      "cell_type": "code",
      "metadata": {},
      "source": [
        "# Importa os dados do SIDRA\n",
        "pib_sa_raw = sidrapy.get_table(table_code= \"1621\",\n",
        "                            territorial_level = \"1\",\n",
        "                            ibge_territorial_code = \"all\",\n",
        "                            period = \"all\",\n",
        "                            classification = \"11255/90707\")\n",
        "\n",
        "# Checamos a importação\n",
        "pib_sa_raw.head()"
      ],
      "id": "9687bc90",
      "execution_count": null,
      "outputs": []
    },
    {
      "cell_type": "code",
      "metadata": {},
      "source": [
        "# Substitui as colunas pela primeira observação\n",
        "pib_sa_raw.columns = pib_sa_raw.iloc[0]\n",
        "\n",
        "# Retira a primeira observação\n",
        "pib_sa_raw = pib_sa_raw.iloc[1:, :]\n",
        "\n",
        "# Altera para float a coluna do valor\n",
        "pib_sa_raw['Valor'] = pib_sa_raw['Valor'].astype(float)\n",
        "pib_sa_raw.head()"
      ],
      "id": "965057a0",
      "execution_count": null,
      "outputs": []
    }
  ],
  "metadata": {
    "kernelspec": {
      "display_name": "Python 3",
      "language": "python",
      "name": "python3"
    }
  },
  "nbformat": 4,
  "nbformat_minor": 5
}