{
  "cells": [
    {
      "cell_type": "markdown",
      "metadata": {},
      "source": [
        "---\n",
        "title: \"Otimização usando Gradient Descent em uma variável Usando Python\"\n",
        "image: ../../Vida-Academica/images/calculo/07-gradiente-descida.png\n",
        "description: \"Anotações do módulo 2 do curso de Cálculo para aprendizado de máquina e ciência de dados\"\n",
        "author: \"Wellington Santos Souza\"\n",
        "date: \"2024-08-04\"\n",
        "format: \n",
        "  html:\n",
        "    code-fold: true\n",
        "    code-copy: true\n",
        "    code-tools: true\n",
        "categories: [\"curso\", \"coursera\", \"Algebra Linear\", \"calculo\", \"Machine Learning\", \"Data Science\", \"Deep Learning\", \"Python\", \"R\", \"Algebra Linear\"]\n",
        "---\n",
        "\n",
        "\n",
        "![](../../Vida-Academica/images/calculo/07-gradiente-descida.png){fig-alt=\"Capa\" fig-title=\"Capa\"}\n",
        "Para entendermos como otimizar funções usando **Gradient Descent,** vamos começar com uma exemplo simples: funções de uma única variável. \n",
        "\n",
        "Para isso vamos utilizar os pacotes `numpy` e `matplotlib`."
      ],
      "id": "b874ad0f"
    },
    {
      "cell_type": "code",
      "metadata": {},
      "source": [
        "import numpy as np\n",
        "import matplotlib.pyplot as plt\n",
        "from w2_tools import plot_f, gradient_descent_one_variable, f_example_2, dfdx_example_2"
      ],
      "id": "81906254",
      "execution_count": null,
      "outputs": []
    },
    {
      "cell_type": "markdown",
      "metadata": {},
      "source": [
        "A função $f(x) = e^x - log(x)$ (definida para $x>0$) é uma função de uma variável que tem apenas um ponto mínimo (chamado de mínimo global). No entanto, às vezes esse ponto mínimo não pode ser encontrado analiticamente - resolvendo a derivada dessa equação $\\dfrac{df}{dx}=0$. Isso pode ser feito usando um método de **Gradient Descent**.\n",
        "\n",
        "Para implementar a **Gradient Descent**, você precisa partir de algum ponto inicial $x_0$. Com o objetivo de encontrar um ponto em que a derivada seja igual a zero, você deseja \"descer na curva\". Calcule a derivada $\\dfrac{df}{dx}(x)$ (chamado de gradiente) e avance para o próximo ponto usando a expressão:\n",
        "\n",
        "$$\n",
        "x_1 = x_0 - \\alpha \\frac{df}{dx}(x_0),\\tag{1}\n",
        "$$\n",
        "\n",
        "em que $a>0$ é um parâmetro chamado de **taxa de aprendizado**. Repita o processo iterativamente. O número de iterações $n$ geralmente também é um parâmetro.\n",
        "\n",
        "Subtraindo $\\dfrac{df}{dx}(x_0)$ você desce a na curva contra o aumento da função - em direção ao ponto mínimo. Portanto, $\\dfrac{df}{dx}(x_0)$ geralmente define a direção do movimento. O parâmetro $a$ serve como um fator de escala.\n",
        "\n",
        "Agora é hora de implementar o método de **Gradient Descent** e fazer experimentos com os parâmetros!\n",
        "\n",
        "Primeiro, defina a função $f(x)=e^2-log(x)$ e sua derivada $\\dfrac{df}{dx}=e^x-\\dfrac{1}{x}$:\n"
      ],
      "id": "29d5615f"
    },
    {
      "cell_type": "code",
      "metadata": {},
      "source": [
        "def f_example_1(x):\n",
        "    return np.exp(x) - np.log(x)\n",
        "\n",
        "def dfdx_example_1(x):\n",
        "    return np.exp(x) - 1/x"
      ],
      "id": "3d733dd8",
      "execution_count": null,
      "outputs": []
    },
    {
      "cell_type": "markdown",
      "metadata": {},
      "source": [
        "A função $f(x)$ tem um mínimo global. Vamos traçar o gráfico da função:"
      ],
      "id": "c0a4b6c2"
    },
    {
      "cell_type": "code",
      "metadata": {},
      "source": [
        "plot_f([0.001, 2.5], [-0.3, 13], f_example_1, 0.0)"
      ],
      "id": "4390f498",
      "execution_count": null,
      "outputs": []
    },
    {
      "cell_type": "markdown",
      "metadata": {},
      "source": [
        "O Gradient Descent pode ser implementado da seguinte forma:"
      ],
      "id": "ea0ca796"
    },
    {
      "cell_type": "code",
      "metadata": {},
      "source": [
        "def gradient_descent(dfdx, x, learning_rate = 0.1, num_iterations = 100):\n",
        "    for iteration in range(num_iterations):\n",
        "        x = x - learning_rate * dfdx(x)\n",
        "    return x"
      ],
      "id": "2bb22638",
      "execution_count": null,
      "outputs": []
    },
    {
      "cell_type": "markdown",
      "metadata": {},
      "source": [
        "Observe que há três parâmetros nessa implementação: num_iterations, learning_rate, ponto inicial x_initial. Para otimizar a função, configure os parâmetros e chame a função definida gradient_descent:"
      ],
      "id": "8c77e571"
    },
    {
      "cell_type": "code",
      "metadata": {},
      "source": [
        "num_iterations = 25; learning_rate = 0.1; x_initial = 1.6\n",
        "print(\"Gradient descent result: x_min =\", gradient_descent(dfdx_example_1, x_initial, learning_rate, num_iterations)) "
      ],
      "id": "c4a37a33",
      "execution_count": null,
      "outputs": []
    },
    {
      "cell_type": "markdown",
      "metadata": {},
      "source": [
        "O código na célula a seguir o ajudará a visualizar e entender melhor o método de descida de gradiente."
      ],
      "id": "99d56983"
    },
    {
      "cell_type": "code",
      "metadata": {},
      "source": [
        "num_iterations = 25; learning_rate = 0.1; x_initial = 1.6\n",
        "num_iterations = 25; learning_rate = 0.3; x_initial = 1.6\n",
        "num_iterations = 25; learning_rate = 0.5; x_initial = 1.6\n",
        "num_iterations = 25; learning_rate = 0.04; x_initial = 1.6\n",
        "num_iterations = 75; learning_rate = 0.04; x_initial = 1.6\n",
        "num_iterations = 25; learning_rate = 0.1; x_initial = 0.05\n",
        "num_iterations = 25; learning_rate = 0.1; x_initial = 0.03\n",
        "num_iterations = 25; learning_rate = 0.1; x_initial = 0.02\n",
        "\n",
        "gd_example_1 = gradient_descent_one_variable([0.001, 2.5], [-0.3, 13], f_example_1, dfdx_example_1, \n",
        "                                   gradient_descent, num_iterations, learning_rate, x_initial, 0.0, [0.35, 9.5])"
      ],
      "id": "f7058f78",
      "execution_count": null,
      "outputs": []
    },
    {
      "cell_type": "markdown",
      "metadata": {},
      "source": [
        "### Função com vários mínimos\n",
        "\n",
        "Plotando a função"
      ],
      "id": "6b331899"
    },
    {
      "cell_type": "code",
      "metadata": {},
      "source": [
        "plot_f([0.001, 2], [-6.3, 5], f_example_2, -6)"
      ],
      "id": "4265437a",
      "execution_count": null,
      "outputs": []
    },
    {
      "cell_type": "markdown",
      "metadata": {},
      "source": [
        "Rodando o gradient descent"
      ],
      "id": "c2c4b51d"
    },
    {
      "cell_type": "code",
      "metadata": {},
      "source": [
        "print(\"Gradient descent results\")\n",
        "print(\"Global minimum: x_min =\", gradient_descent(dfdx_example_2, x=1.3, learning_rate=0.005, num_iterations=35)) \n",
        "print(\"Local minimum: x_min =\", gradient_descent(dfdx_example_2, x=0.25, learning_rate=0.005, num_iterations=35)) "
      ],
      "id": "b1735da7",
      "execution_count": null,
      "outputs": []
    },
    {
      "cell_type": "markdown",
      "metadata": {},
      "source": [
        "Testando diferentes pontos:"
      ],
      "id": "4a31ddc0"
    },
    {
      "cell_type": "code",
      "metadata": {},
      "source": [
        "num_iterations = 35; learning_rate = 0.005; x_initial = 1.3\n",
        "num_iterations = 35; learning_rate = 0.005; x_initial = 0.25\n",
        "num_iterations = 35; learning_rate = 0.01; x_initial = 1.3\n",
        "\n",
        "gd_example_2 = gradient_descent_one_variable([0.001, 2], [-6.3, 5], f_example_2, dfdx_example_2, \n",
        "                                      gradient_descent, num_iterations, learning_rate, x_initial, -6, [0.1, -0.5])"
      ],
      "id": "93d337f4",
      "execution_count": null,
      "outputs": []
    }
  ],
  "metadata": {
    "kernelspec": {
      "display_name": "Python 3",
      "language": "python",
      "name": "python3"
    }
  },
  "nbformat": 4,
  "nbformat_minor": 5
}