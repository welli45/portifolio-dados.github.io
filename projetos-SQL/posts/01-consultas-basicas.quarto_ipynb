{
  "cells": [
    {
      "cell_type": "markdown",
      "metadata": {},
      "source": [
        "---\n",
        "title: \"Consultas Básicas em SQL\"  \n",
        "subtitle: \"Introdução ao SQL\"\n",
        "description: \"Este tutorial é uma introdução a consultas básicas em SQL. Aqui você aprenderá a realizar consultas simples em um banco de dados relacional.\"\n",
        "author: \"Wellington Santos Souza\"\n",
        "date: \"2024-11-29\"\n",
        "format: \n",
        "  html:\n",
        "    code-fold: true\n",
        "    code-copy: true\n",
        "    code-tools: true\n",
        "categories: [SQL, Banco de Dados, Tutorial]\n",
        "open-graph:\n",
        "  description: \"Em constru...\"\n",
        "  image: ../images/sql_01.png\n",
        "twitter-card:\n",
        "  description: \"Em constru...\"\n",
        "  image: ../images/sql_01.png\n",
        "---\n",
        "\n",
        "\n",
        "*Este artigo foi reescrito em Sexat, 29 de novembro de 2024.*\n",
        "\n",
        "![](../images/sql_01.png){fig-alt=\"Gráfico\" width=\"50%\"}\n",
        "\n",
        "# Introdução\n",
        "\n",
        "SQL (Structured Query Language) é uma linguagem de consulta estruturada usada para interagir com bancos de dados relacionais. SQL é uma linguagem padrão para acessar e manipular bancos de dados.\n",
        "\n",
        "Este tutorial é uma introdução a consultas básicas em SQL. Aqui você aprenderá a realizar consultas simples em um banco de dados relacional.\n",
        "\n",
        "# Consultas Básicas\n",
        "\n",
        "Para esse tutorial usarei um ex\n"
      ],
      "id": "ffb1a091"
    },
    {
      "cell_type": "code",
      "metadata": {},
      "source": [
        "from google.cloud import bigquery"
      ],
      "id": "b69b344b",
      "execution_count": null,
      "outputs": []
    }
  ],
  "metadata": {
    "kernelspec": {
      "display_name": "Python 3",
      "language": "python",
      "name": "python3"
    }
  },
  "nbformat": 4,
  "nbformat_minor": 5
}